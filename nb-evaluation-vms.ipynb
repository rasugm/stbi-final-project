{
 "cells": [
  {
   "cell_type": "code",
   "execution_count": 2,
   "id": "0dcb0d1f-aaa3-46ff-8f9b-fafd0f2ead96",
   "metadata": {},
   "outputs": [
    {
     "name": "stdout",
     "output_type": "stream",
     "text": [
      "MAP: 0.20555555555555555\n"
     ]
    }
   ],
   "source": [
    "def calculate_precision_at_k(relevant_docs, retrieved_docs, k):\n",
    "    relevant_docs_at_k = set(retrieved_docs[:k]).intersection(set(relevant_docs))\n",
    "    return len(relevant_docs_at_k) / k if k != 0 else 0  # Handle division by zero\n",
    "\n",
    "def calculate_average_precision(relevant_docs, retrieved_docs):\n",
    "    avg_precision = 0.0\n",
    "    num_relevant_docs = len(relevant_docs)\n",
    "    num_retrieved_docs = len(retrieved_docs)\n",
    "    num_correct = 0\n",
    "    for i in range(num_retrieved_docs):\n",
    "        if retrieved_docs[i] in relevant_docs:\n",
    "            num_correct += 1\n",
    "            precision_at_i = num_correct / (i + 1)\n",
    "            avg_precision += precision_at_i\n",
    "    if num_relevant_docs == 0:\n",
    "        return 0\n",
    "    return avg_precision / num_relevant_docs\n",
    "\n",
    "def calculate_map(queries, relevant_docs_per_query, retrieved_docs_per_query, k):\n",
    "    total_avg_precision = 0.0\n",
    "    num_queries = len(queries)\n",
    "    for q in range(num_queries):\n",
    "        avg_precision_q = calculate_average_precision(relevant_docs_per_query[q], retrieved_docs_per_query[q][:k])\n",
    "        total_avg_precision += avg_precision_q\n",
    "    return total_avg_precision / num_queries if num_queries != 0 else 0  # Handle division by zero\n",
    "\n",
    "# Example usage\n",
    "relevant_docs_per_query = {0: [3, 5, 7], 1: [1, 2, 4]}  # Change query IDs to start from 0\n",
    "retrieved_docs_per_query = {0: [1, 2, 3, 4, 5], 1: [3, 1, 7, 8, 9]}  # Change query IDs to start from 0\n",
    "queries = [0, 1]  # Change query IDs to start from 0\n",
    "k = 5\n",
    "\n",
    "map_score = calculate_map(queries, relevant_docs_per_query, retrieved_docs_per_query, k)\n",
    "print(\"MAP:\", map_score)\n"
   ]
  }
 ],
 "metadata": {
  "kernelspec": {
   "display_name": "Python 3 (ipykernel)",
   "language": "python",
   "name": "python3"
  },
  "language_info": {
   "codemirror_mode": {
    "name": "ipython",
    "version": 3
   },
   "file_extension": ".py",
   "mimetype": "text/x-python",
   "name": "python",
   "nbconvert_exporter": "python",
   "pygments_lexer": "ipython3",
   "version": "3.9.13"
  }
 },
 "nbformat": 4,
 "nbformat_minor": 5
}
