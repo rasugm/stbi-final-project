{
 "cells": [
  {
   "cell_type": "code",
   "execution_count": 1,
   "id": "4ce3a664-aff9-4710-a2e2-b3beade640f6",
   "metadata": {},
   "outputs": [
    {
     "name": "stdout",
     "output_type": "stream",
     "text": [
      "Hasil fungsi panas untuk x = 789 : 264\n"
     ]
    }
   ],
   "source": [
    "def panas(x):\n",
    "    dingin = 0\n",
    "    while x >= 0:\n",
    "        dingin += 1\n",
    "        if x % 3 == 0:\n",
    "            x -= 5\n",
    "        elif x % 5 == 0:\n",
    "            x -= 3\n",
    "        else:\n",
    "            x -= 1\n",
    "    return dingin\n",
    "\n",
    "# Contoh pemanggilan fungsi\n",
    "nilai_awal = 789\n",
    "print(\"Hasil fungsi panas untuk x =\", nilai_awal, \":\", panas(nilai_awal))\n"
   ]
  },
  {
   "cell_type": "code",
   "execution_count": 9,
   "id": "b05feb53-aa4a-417d-b046-683b39b5ba29",
   "metadata": {},
   "outputs": [
    {
     "name": "stdout",
     "output_type": "stream",
     "text": [
      "Hasil fungsi ayam untuk a = 19 dan b = 39 :\n",
      "Step 19 39\n",
      "Step 19 19\n",
      "Step 19 9\n",
      "Step 19 4\n",
      "Step 19 2\n",
      "Step 19 1\n",
      "Step 19 0\n",
      "19 0\n",
      "38\n",
      "Step 19 0\n",
      "38 0\n",
      "76\n",
      "Step 19 1\n",
      "76 19\n",
      "171\n",
      "Step 19 1\n",
      "171 19\n",
      "361\n",
      "Step 19 1\n",
      "361 19\n",
      "741\n",
      "741\n"
     ]
    }
   ],
   "source": [
    "def ayam(a, b):\n",
    "    print(\"Step\", a, b)\n",
    "    if b == 0:\n",
    "        return 0\n",
    "    elif b == 1:\n",
    "        return a\n",
    "    else:\n",
    "        op_one = ayam(a, b // 2)\n",
    "        op_two = ayam(a, b % 2)\n",
    "        print(op_one, op_two)\n",
    "        result = op_one * 2 + op_two\n",
    "        print(result)\n",
    "        return result\n",
    "\n",
    "# Contoh pemanggilan fungsi\n",
    "nilai_a = 19\n",
    "nilai_b = 39\n",
    "print(\"Hasil fungsi ayam untuk a =\", nilai_a, \"dan b =\", nilai_b, \":\")\n",
    "print(ayam(nilai_a, nilai_b))\n"
   ]
  }
 ],
 "metadata": {
  "kernelspec": {
   "display_name": "Python 3 (ipykernel)",
   "language": "python",
   "name": "python3"
  },
  "language_info": {
   "codemirror_mode": {
    "name": "ipython",
    "version": 3
   },
   "file_extension": ".py",
   "mimetype": "text/x-python",
   "name": "python",
   "nbconvert_exporter": "python",
   "pygments_lexer": "ipython3",
   "version": "3.9.13"
  }
 },
 "nbformat": 4,
 "nbformat_minor": 5
}
